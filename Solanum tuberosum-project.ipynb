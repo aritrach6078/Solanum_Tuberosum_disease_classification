{
 "nbformat": 4,
 "nbformat_minor": 0,
 "metadata": {
  "colab": {
   "provenance": [],
   "gpuType": "T4",
   "authorship_tag": "ABX9TyNuuoIRIygePXnAgjX5WMOC"
  },
  "kernelspec": {
   "name": "python3",
   "display_name": "Python 3"
  },
  "language_info": {
   "name": "python"
  },
  "accelerator": "GPU"
 },
 "cells": [
  {
   "cell_type": "code",
   "execution_count": 34,
   "metadata": {
    "colab": {
     "base_uri": "https://localhost:8080/"
    },
    "id": "EB1hmDwu_oYu",
    "executionInfo": {
     "status": "ok",
     "timestamp": 1729231436230,
     "user_tz": -330,
     "elapsed": 3635,
     "user": {
      "displayName": "ARITRA CHOUDHARY",
      "userId": "00881308276584195727"
     }
    },
    "outputId": "ac21a50b-5ac3-42ed-89c9-6e91e61b3869"
   },
   "source": [
    "from google.colab import drive\n",
    "drive.mount('/content/drive')\n"
   ],
   "outputs": []
  },
  {
   "cell_type": "code",
   "source": [
    "dataset_path = '/content/drive/MyDrive/Solanum tuberosum -project/training/PlantVillage'"
   ],
   "metadata": {
    "id": "ISxzi1zA_yum",
    "executionInfo": {
     "status": "ok",
     "timestamp": 1729231436230,
     "user_tz": -330,
     "elapsed": 5,
     "user": {
      "displayName": "ARITRA CHOUDHARY",
      "userId": "00881308276584195727"
     }
    }
   },
   "execution_count": 35,
   "outputs": []
  },
  {
   "cell_type": "code",
   "source": [
    "import tensorflow as tf\n",
    "from tensorflow.keras import models, layers\n",
    "import matplotlib.pyplot as plt"
   ],
   "metadata": {
    "id": "u9teFDPMLi-H",
    "executionInfo": {
     "status": "ok",
     "timestamp": 1729231436230,
     "user_tz": -330,
     "elapsed": 5,
     "user": {
      "displayName": "ARITRA CHOUDHARY",
      "userId": "00881308276584195727"
     }
    }
   },
   "execution_count": 36,
   "outputs": []
  },
  {
   "cell_type": "code",
   "source": [
    "BATCH_SIZE = 32\n",
    "IMAGE_SIZE = 256\n",
    "CHANNELS = 3\n",
    "EPOCHS = 50"
   ],
   "metadata": {
    "id": "2XQzZ0_ZMTHN",
    "executionInfo": {
     "status": "ok",
     "timestamp": 1729231436231,
     "user_tz": -330,
     "elapsed": 5,
     "user": {
      "displayName": "ARITRA CHOUDHARY",
      "userId": "00881308276584195727"
     }
    }
   },
   "execution_count": 37,
   "outputs": []
  },
  {
   "cell_type": "code",
   "source": [
    "dataset = tf.keras.preprocessing.image_dataset_from_directory(\n",
    "    dataset_path,\n",
    "    shuffle=True,\n",
    "    image_size=(IMAGE_SIZE, IMAGE_SIZE),\n",
    "    batch_size=BATCH_SIZE\n",
    ")"
   ],
   "metadata": {
    "colab": {
     "base_uri": "https://localhost:8080/"
    },
    "id": "hzCBGwt6MXhf",
    "executionInfo": {
     "status": "ok",
     "timestamp": 1729231436931,
     "user_tz": -330,
     "elapsed": 705,
     "user": {
      "displayName": "ARITRA CHOUDHARY",
      "userId": "00881308276584195727"
     }
    },
    "outputId": "53c9e7c3-c051-4458-d2c2-9c9cb5efa37d"
   },
   "execution_count": 38,
   "outputs": []
  },
  {
   "cell_type": "code",
   "source": [
    "class_names = dataset.class_names\n",
    "class_names"
   ],
   "metadata": {
    "colab": {
     "base_uri": "https://localhost:8080/"
    },
    "id": "q-nGsMiNMcFy",
    "executionInfo": {
     "status": "ok",
     "timestamp": 1729231436931,
     "user_tz": -330,
     "elapsed": 6,
     "user": {
      "displayName": "ARITRA CHOUDHARY",
      "userId": "00881308276584195727"
     }
    },
    "outputId": "cf410954-82ff-4fd7-b3f3-88dad564a53f"
   },
   "execution_count": 39,
   "outputs": []
  },
  {
   "cell_type": "code",
   "source": [
    "import matplotlib.pyplot as plt\n",
    "\n",
    "# Set up the plot with a specific figure size\n",
    "plt.figure(figsize=(10, 10))\n",
    "\n",
    "# Take one batch of images and labels from the dataset\n",
    "for image_batch, labels_batch in dataset.take(1):\n",
    "    print(image_batch.shape)  # Print the shape of the image batch\n",
    "    print(labels_batch.numpy())  # Print the labels in numpy format\n",
    "\n",
    "    # Display 12 images from the batch\n",
    "    for i in range(12):\n",
    "        ax = plt.subplot(3, 4, i + 1)  # Create a 3x4 grid of subplots\n",
    "        plt.imshow(image_batch[i].numpy().astype(\"uint8\"))  # Display the image\n",
    "        plt.title(class_names[labels_batch[i]])  # Set the title to the class name\n",
    "        plt.axis(\"off\")  # Turn off the axis\n",
    "\n",
    "# Show the plot\n",
    "plt.show()"
   ],
   "metadata": {
    "colab": {
     "base_uri": "https://localhost:8080/",
     "height": 806
    },
    "id": "OWO8lmAaMxRn",
    "executionInfo": {
     "status": "ok",
     "timestamp": 1729231444493,
     "user_tz": -330,
     "elapsed": 7566,
     "user": {
      "displayName": "ARITRA CHOUDHARY",
      "userId": "00881308276584195727"
     }
    },
    "outputId": "23b61a36-5cee-452a-b279-581aaedafc06"
   },
   "execution_count": 40,
   "outputs": []
  },
  {
   "cell_type": "code",
   "source": [
    "train_size = 0.8\n",
    "len(dataset) * train_size"
   ],
   "metadata": {
    "colab": {
     "base_uri": "https://localhost:8080/"
    },
    "id": "AIe1j5h-M5QA",
    "executionInfo": {
     "status": "ok",
     "timestamp": 1729231444493,
     "user_tz": -330,
     "elapsed": 25,
     "user": {
      "displayName": "ARITRA CHOUDHARY",
      "userId": "00881308276584195727"
     }
    },
    "outputId": "b0068303-11c2-49a4-e272-f87ea024a376"
   },
   "execution_count": 41,
   "outputs": []
  },
  {
   "cell_type": "code",
   "source": [
    "train_ds = dataset.take(54)  # Take 54 batches for training\n",
    "len(train_ds)"
   ],
   "metadata": {
    "colab": {
     "base_uri": "https://localhost:8080/"
    },
    "id": "GctpdP04NDcS",
    "executionInfo": {
     "status": "ok",
     "timestamp": 1729231444494,
     "user_tz": -330,
     "elapsed": 23,
     "user": {
      "displayName": "ARITRA CHOUDHARY",
      "userId": "00881308276584195727"
     }
    },
    "outputId": "6879a6a4-9b5c-4e75-ea46-c67d9f5cb3f1"
   },
   "execution_count": 42,
   "outputs": []
  },
  {
   "cell_type": "code",
   "source": [
    "test_ds = dataset.skip(54)  # Skip the first 54 batches for the test dataset\n",
    "len(test_ds)"
   ],
   "metadata": {
    "colab": {
     "base_uri": "https://localhost:8080/"
    },
    "id": "ou76-tXNNE_l",
    "executionInfo": {
     "status": "ok",
     "timestamp": 1729231444494,
     "user_tz": -330,
     "elapsed": 22,
     "user": {
      "displayName": "ARITRA CHOUDHARY",
      "userId": "00881308276584195727"
     }
    },
    "outputId": "8b643d5e-66f1-437e-f217-cca7b71313c6"
   },
   "execution_count": 43,
   "outputs": []
  },
  {
   "cell_type": "code",
   "source": [
    "val_size = 0.1\n",
    "len(dataset) * val_size"
   ],
   "metadata": {
    "colab": {
     "base_uri": "https://localhost:8080/"
    },
    "id": "tBDs2XciNGNQ",
    "executionInfo": {
     "status": "ok",
     "timestamp": 1729231444494,
     "user_tz": -330,
     "elapsed": 21,
     "user": {
      "displayName": "ARITRA CHOUDHARY",
      "userId": "00881308276584195727"
     }
    },
    "outputId": "8af3b8ec-8167-4a94-cd8e-989c1c8f0d79"
   },
   "execution_count": 44,
   "outputs": []
  },
  {
   "cell_type": "code",
   "source": [
    "val_ds = test_ds.take(6)  # Take the first 6 batches from the test dataset for validation\n",
    "len(val_ds)"
   ],
   "metadata": {
    "colab": {
     "base_uri": "https://localhost:8080/"
    },
    "id": "G5u8GWw-NIr4",
    "executionInfo": {
     "status": "ok",
     "timestamp": 1729231444494,
     "user_tz": -330,
     "elapsed": 19,
     "user": {
      "displayName": "ARITRA CHOUDHARY",
      "userId": "00881308276584195727"
     }
    },
    "outputId": "f765e763-1371-401b-fb42-ad6635db2819"
   },
   "execution_count": 45,
   "outputs": []
  },
  {
   "cell_type": "code",
   "source": [
    "test_ds = test_ds.skip(6)  # Skip the first 6 batches from the test dataset\n",
    "len(test_ds)"
   ],
   "metadata": {
    "colab": {
     "base_uri": "https://localhost:8080/"
    },
    "id": "e4uoHFbONLnT",
    "executionInfo": {
     "status": "ok",
     "timestamp": 1729231444494,
     "user_tz": -330,
     "elapsed": 18,
     "user": {
      "displayName": "ARITRA CHOUDHARY",
      "userId": "00881308276584195727"
     }
    },
    "outputId": "226b7102-afba-404b-ce60-fe5aeeeeca76"
   },
   "execution_count": 46,
   "outputs": []
  },
  {
   "cell_type": "code",
   "source": [
    "def get_dataset_partitions_tf(ds, train_split=0.8, val_split=0.1, test_split=0.1, shuffle=True, shuffle_size=10000):\n",
    "    assert (train_split + test_split + val_split) == 1\n",
    "\n",
    "    ds_size = len(ds)\n",
    "\n",
    "    if shuffle:\n",
    "        ds = ds.shuffle(shuffle_size, seed=12)\n",
    "\n",
    "    train_size = int(train_split * ds_size)\n",
    "    val_size = int(val_split * ds_size)\n",
    "\n",
    "    train_ds = ds.take(train_size)\n",
    "    val_ds = ds.skip(train_size).take(val_size)\n",
    "    test_ds = ds.skip(train_size).skip(val_size)\n",
    "\n",
    "    return train_ds, val_ds, test_ds"
   ],
   "metadata": {
    "id": "3HL5gKbMNKda",
    "executionInfo": {
     "status": "ok",
     "timestamp": 1729231444494,
     "user_tz": -330,
     "elapsed": 16,
     "user": {
      "displayName": "ARITRA CHOUDHARY",
      "userId": "00881308276584195727"
     }
    }
   },
   "execution_count": 47,
   "outputs": []
  },
  {
   "cell_type": "code",
   "source": [
    "train_ds, val_ds, test_ds = get_dataset_partitions_tf(dataset)"
   ],
   "metadata": {
    "id": "ADvfo-B-Nat0",
    "executionInfo": {
     "status": "ok",
     "timestamp": 1729231444494,
     "user_tz": -330,
     "elapsed": 16,
     "user": {
      "displayName": "ARITRA CHOUDHARY",
      "userId": "00881308276584195727"
     }
    }
   },
   "execution_count": 48,
   "outputs": []
  },
  {
   "cell_type": "code",
   "source": [
    "len(train_ds)"
   ],
   "metadata": {
    "colab": {
     "base_uri": "https://localhost:8080/"
    },
    "id": "TqXKS9hZNeFX",
    "executionInfo": {
     "status": "ok",
     "timestamp": 1729231444495,
     "user_tz": -330,
     "elapsed": 16,
     "user": {
      "displayName": "ARITRA CHOUDHARY",
      "userId": "00881308276584195727"
     }
    },
    "outputId": "b2793bd1-f1bf-4848-e5cc-e3247badc2c4"
   },
   "execution_count": 49,
   "outputs": []
  },
  {
   "cell_type": "code",
   "source": [
    "len(val_ds)"
   ],
   "metadata": {
    "colab": {
     "base_uri": "https://localhost:8080/"
    },
    "id": "9BBDdQlzNi3P",
    "executionInfo": {
     "status": "ok",
     "timestamp": 1729231444495,
     "user_tz": -330,
     "elapsed": 14,
     "user": {
      "displayName": "ARITRA CHOUDHARY",
      "userId": "00881308276584195727"
     }
    },
    "outputId": "882512b9-9c33-4519-8fdb-69478508e636"
   },
   "execution_count": 50,
   "outputs": []
  },
  {
   "cell_type": "code",
   "source": [
    "len(test_ds)"
   ],
   "metadata": {
    "colab": {
     "base_uri": "https://localhost:8080/"
    },
    "id": "gkgqtDDENkPC",
    "executionInfo": {
     "status": "ok",
     "timestamp": 1729231444495,
     "user_tz": -330,
     "elapsed": 13,
     "user": {
      "displayName": "ARITRA CHOUDHARY",
      "userId": "00881308276584195727"
     }
    },
    "outputId": "edc05d87-b15f-4620-9263-f2d446297776"
   },
   "execution_count": 51,
   "outputs": []
  },
  {
   "cell_type": "code",
   "source": [
    "train_ds = train_ds.cache().shuffle(1000).prefetch(buffer_size=tf.data.AUTOTUNE)\n",
    "val_ds = val_ds.cache().shuffle(1000).prefetch(buffer_size=tf.data.AUTOTUNE)\n",
    "test_ds = test_ds.cache().shuffle(1000).prefetch(buffer_size=tf.data.AUTOTUNE)"
   ],
   "metadata": {
    "id": "dzEtpLecNmUV",
    "executionInfo": {
     "status": "ok",
     "timestamp": 1729231444495,
     "user_tz": -330,
     "elapsed": 11,
     "user": {
      "displayName": "ARITRA CHOUDHARY",
      "userId": "00881308276584195727"
     }
    }
   },
   "execution_count": 52,
   "outputs": []
  },
  {
   "cell_type": "code",
   "source": [
    "for image_batch, labels_batch in dataset.take(1):\n",
    "    print(image_batch[0].numpy()/255)"
   ],
   "metadata": {
    "colab": {
     "base_uri": "https://localhost:8080/"
    },
    "id": "1z1kDx6qNzW1",
    "executionInfo": {
     "status": "ok",
     "timestamp": 1729231448472,
     "user_tz": -330,
     "elapsed": 3988,
     "user": {
      "displayName": "ARITRA CHOUDHARY",
      "userId": "00881308276584195727"
     }
    },
    "outputId": "3521cbfd-8dda-4993-8536-ecbe46d81643"
   },
   "execution_count": 53,
   "outputs": []
  },
  {
   "cell_type": "code",
   "source": [
    "resize_and_rescale = tf.keras.Sequential([\n",
    "    tf.keras.layers.Resizing(IMAGE_SIZE, IMAGE_SIZE),\n",
    "    tf.keras.layers.Rescaling(1.0/255)\n",
    "])"
   ],
   "metadata": {
    "id": "gnk9pc-4N1cg",
    "executionInfo": {
     "status": "ok",
     "timestamp": 1729231448472,
     "user_tz": -330,
     "elapsed": 14,
     "user": {
      "displayName": "ARITRA CHOUDHARY",
      "userId": "00881308276584195727"
     }
    }
   },
   "execution_count": 54,
   "outputs": []
  },
  {
   "cell_type": "code",
   "source": [
    "data_augmentation = tf.keras.Sequential([\n",
    "    tf.keras.layers.RandomFlip(\"horizontal_and_vertical\"),\n",
    "    tf.keras.layers.RandomRotation(0.2),\n",
    "])"
   ],
   "metadata": {
    "id": "JQft8oc8N-78",
    "executionInfo": {
     "status": "ok",
     "timestamp": 1729231448473,
     "user_tz": -330,
     "elapsed": 14,
     "user": {
      "displayName": "ARITRA CHOUDHARY",
      "userId": "00881308276584195727"
     }
    }
   },
   "execution_count": 55,
   "outputs": []
  },
  {
   "cell_type": "code",
   "source": [
    "BATCH_SIZE"
   ],
   "metadata": {
    "colab": {
     "base_uri": "https://localhost:8080/"
    },
    "id": "Smxho7OSOCk6",
    "executionInfo": {
     "status": "ok",
     "timestamp": 1729231448473,
     "user_tz": -330,
     "elapsed": 14,
     "user": {
      "displayName": "ARITRA CHOUDHARY",
      "userId": "00881308276584195727"
     }
    },
    "outputId": "70b3a6e9-1d86-4775-e9e1-e1829139d13f"
   },
   "execution_count": 56,
   "outputs": []
  },
  {
   "cell_type": "code",
   "source": [
    "input_shape = (BATCH_SIZE, IMAGE_SIZE, IMAGE_SIZE, CHANNELS)\n",
    "n_classes = 3\n",
    "\n",
    "model = models.Sequential([\n",
    "    resize_and_rescale,\n",
    "    data_augmentation,\n",
    "    layers.Conv2D(32, kernel_size=(3, 3), activation='relu', input_shape=input_shape),\n",
    "    layers.MaxPooling2D((2, 2)),\n",
    "    layers.Conv2D(64, kernel_size=(3, 3), activation='relu'),\n",
    "    layers.MaxPooling2D((2, 2)),\n",
    "    layers.Conv2D(64, kernel_size=(3, 3), activation='relu'),\n",
    "    layers.MaxPooling2D((2, 2)),\n",
    "    layers.Conv2D(64, kernel_size=(3, 3), activation='relu'),\n",
    "    layers.MaxPooling2D((2, 2)),\n",
    "    layers.Conv2D(64, kernel_size=(3, 3), activation='relu'),\n",
    "    layers.MaxPooling2D((2, 2)),\n",
    "    layers.Conv2D(64, kernel_size=(3, 3), activation='relu'),\n",
    "    layers.MaxPooling2D((2, 2)),\n",
    "    layers.Flatten(),\n",
    "    layers.Dense(64, activation='relu'),\n",
    "    layers.Dense(n_classes, activation='softmax'),\n",
    "])\n",
    "model.build(input_shape=input_shape)"
   ],
   "metadata": {
    "id": "-wOFJdRLOGL3",
    "executionInfo": {
     "status": "ok",
     "timestamp": 1729231448473,
     "user_tz": -330,
     "elapsed": 13,
     "user": {
      "displayName": "ARITRA CHOUDHARY",
      "userId": "00881308276584195727"
     }
    }
   },
   "execution_count": 57,
   "outputs": []
  },
  {
   "cell_type": "code",
   "source": [
    "model.summary()"
   ],
   "metadata": {
    "colab": {
     "base_uri": "https://localhost:8080/",
     "height": 673
    },
    "id": "lyWAyhMFOK3n",
    "executionInfo": {
     "status": "ok",
     "timestamp": 1729231448473,
     "user_tz": -330,
     "elapsed": 13,
     "user": {
      "displayName": "ARITRA CHOUDHARY",
      "userId": "00881308276584195727"
     }
    },
    "outputId": "3e369875-e80e-49bf-e6cb-5882a4e7dcd8"
   },
   "execution_count": 58,
   "outputs": []
  },
  {
   "cell_type": "code",
   "source": [
    "model.compile(\n",
    "    optimizer='adam',\n",
    "    loss=tf.keras.losses.SparseCategoricalCrossentropy(from_logits=False),\n",
    "    metrics=['accuracy']\n",
    ")"
   ],
   "metadata": {
    "id": "1ymkGCw8OOwf",
    "executionInfo": {
     "status": "ok",
     "timestamp": 1729231448473,
     "user_tz": -330,
     "elapsed": 10,
     "user": {
      "displayName": "ARITRA CHOUDHARY",
      "userId": "00881308276584195727"
     }
    }
   },
   "execution_count": 59,
   "outputs": []
  },
  {
   "cell_type": "code",
   "source": [
    "history = model.fit(\n",
    "    train_ds,\n",
    "    batch_size=BATCH_SIZE,\n",
    "    validation_data=val_ds,\n",
    "    verbose=1,\n",
    "    epochs=EPOCHS\n",
    ")"
   ],
   "metadata": {
    "colab": {
     "base_uri": "https://localhost:8080/"
    },
    "id": "yhV94J3sOSeS",
    "executionInfo": {
     "status": "ok",
     "timestamp": 1729231912637,
     "user_tz": -330,
     "elapsed": 464174,
     "user": {
      "displayName": "ARITRA CHOUDHARY",
      "userId": "00881308276584195727"
     }
    },
    "outputId": "ecf0d95d-2ece-49e1-c69e-6c5938be853e"
   },
   "execution_count": 60,
   "outputs": []
  },
  {
   "cell_type": "code",
   "source": [
    "len(test_ds)"
   ],
   "metadata": {
    "colab": {
     "base_uri": "https://localhost:8080/"
    },
    "id": "m2lyQVHxOn7t",
    "executionInfo": {
     "status": "ok",
     "timestamp": 1729231930696,
     "user_tz": -330,
     "elapsed": 1551,
     "user": {
      "displayName": "ARITRA CHOUDHARY",
      "userId": "00881308276584195727"
     }
    },
    "outputId": "ac67ec94-380a-467b-e437-2abe51cb2ed4"
   },
   "execution_count": 61,
   "outputs": []
  },
  {
   "cell_type": "code",
   "source": [
    "scores = model.evaluate(test_ds)"
   ],
   "metadata": {
    "colab": {
     "base_uri": "https://localhost:8080/"
    },
    "id": "LxBlwhowOpWQ",
    "executionInfo": {
     "status": "ok",
     "timestamp": 1729231941400,
     "user_tz": -330,
     "elapsed": 9176,
     "user": {
      "displayName": "ARITRA CHOUDHARY",
      "userId": "00881308276584195727"
     }
    },
    "outputId": "f573ede0-b8a8-4e0f-ad51-2571ad799ef3"
   },
   "execution_count": 62,
   "outputs": []
  },
  {
   "cell_type": "code",
   "source": [
    "scores"
   ],
   "metadata": {
    "colab": {
     "base_uri": "https://localhost:8080/"
    },
    "id": "X_EKfJjJOpTe",
    "executionInfo": {
     "status": "ok",
     "timestamp": 1729231941400,
     "user_tz": -330,
     "elapsed": 8,
     "user": {
      "displayName": "ARITRA CHOUDHARY",
      "userId": "00881308276584195727"
     }
    },
    "outputId": "cb211c53-ffb4-4676-fdf3-5b8f735ee967"
   },
   "execution_count": 63,
   "outputs": []
  },
  {
   "cell_type": "code",
   "source": [
    "history.history.keys()"
   ],
   "metadata": {
    "colab": {
     "base_uri": "https://localhost:8080/"
    },
    "id": "WTY551GzOpQy",
    "executionInfo": {
     "status": "ok",
     "timestamp": 1729231941401,
     "user_tz": -330,
     "elapsed": 7,
     "user": {
      "displayName": "ARITRA CHOUDHARY",
      "userId": "00881308276584195727"
     }
    },
    "outputId": "8758a571-38fe-470c-9650-36a2a70e1e04"
   },
   "execution_count": 64,
   "outputs": []
  },
  {
   "cell_type": "code",
   "source": [
    "acc = history.history['accuracy']\n",
    "val_acc = history.history['val_accuracy']\n",
    "\n",
    "loss = history.history['loss']\n",
    "val_loss = history.history['val_loss']"
   ],
   "metadata": {
    "id": "gAHihMYcOpNm",
    "executionInfo": {
     "status": "ok",
     "timestamp": 1729231951319,
     "user_tz": -330,
     "elapsed": 771,
     "user": {
      "displayName": "ARITRA CHOUDHARY",
      "userId": "00881308276584195727"
     }
    }
   },
   "execution_count": 65,
   "outputs": []
  },
  {
   "cell_type": "code",
   "source": [
    "history.history['accuracy']"
   ],
   "metadata": {
    "colab": {
     "base_uri": "https://localhost:8080/"
    },
    "id": "ehdDm44COpDl",
    "executionInfo": {
     "status": "ok",
     "timestamp": 1729231953627,
     "user_tz": -330,
     "elapsed": 4,
     "user": {
      "displayName": "ARITRA CHOUDHARY",
      "userId": "00881308276584195727"
     }
    },
    "outputId": "cfad89c8-c2fd-424e-c6b9-a3469d364102"
   },
   "execution_count": 66,
   "outputs": []
  },
  {
   "cell_type": "code",
   "source": [
    "plt.figure(figsize=(8, 8))\n",
    "plt.subplot(1, 2, 1)\n",
    "plt.plot(range(EPOCHS), acc, label='Training Accuracy')\n",
    "plt.plot(range(EPOCHS), val_acc, label='Validation Accuracy')\n",
    "plt.legend(loc='lower right')\n",
    "plt.title('Training and Validation Accuracy')\n",
    "\n",
    "plt.subplot(1, 2, 2)\n",
    "plt.plot(range(EPOCHS), loss, label='Training Loss')\n",
    "plt.plot(range(EPOCHS), val_loss, label='Validation Loss')\n",
    "plt.legend(loc='upper right')\n",
    "plt.title('Training and Validation Loss')\n",
    "plt.show()"
   ],
   "metadata": {
    "colab": {
     "base_uri": "https://localhost:8080/",
     "height": 699
    },
    "id": "Uq2Gvag4OouX",
    "executionInfo": {
     "status": "ok",
     "timestamp": 1729231957807,
     "user_tz": -330,
     "elapsed": 991,
     "user": {
      "displayName": "ARITRA CHOUDHARY",
      "userId": "00881308276584195727"
     }
    },
    "outputId": "a201224b-9af8-42dd-9368-5cf3c20be7ae"
   },
   "execution_count": 67,
   "outputs": []
  },
  {
   "cell_type": "code",
   "source": [
    "import numpy as np\n",
    "for images_batch, labels_batch in test_ds.take(1):\n",
    "    first_image = images_batch[0].numpy().astype(\"uint8\")\n",
    "    print(\"First image to predict\")\n",
    "    plt.imshow(first_image)\n",
    "    print(\"Actual Label:\", class_names[labels_batch[0].numpy()])\n",
    "\n",
    "    batch_prediction = model.predict(images_batch)\n",
    "    print(\"Predicted Label:\", class_names[np.argmax(batch_prediction[0])])"
   ],
   "metadata": {
    "colab": {
     "base_uri": "https://localhost:8080/",
     "height": 504
    },
    "id": "dbJe-4IVO0Ql",
    "executionInfo": {
     "status": "ok",
     "timestamp": 1729231995928,
     "user_tz": -330,
     "elapsed": 2687,
     "user": {
      "displayName": "ARITRA CHOUDHARY",
      "userId": "00881308276584195727"
     }
    },
    "outputId": "d826de33-7213-4182-c96a-956b6856c9e9"
   },
   "execution_count": 71,
   "outputs": []
  },
  {
   "cell_type": "code",
   "source": [
    "def predict(model, img):\n",
    "    img_array = tf.keras.preprocessing.image.img_to_array(images[i].numpy())\n",
    "    img_array = tf.expand_dims(img_array, 0)  # Create a batch\n",
    "\n",
    "    predictions = model.predict(img_array)\n",
    "\n",
    "    predicted_class = class_names[np.argmax(predictions[0])]\n",
    "    confidence = round(100 * (np.max(predictions[0])), 2)\n",
    "    return predicted_class, confidence"
   ],
   "metadata": {
    "id": "OuAt1mSvO0OB",
    "executionInfo": {
     "status": "ok",
     "timestamp": 1729232000142,
     "user_tz": -330,
     "elapsed": 394,
     "user": {
      "displayName": "ARITRA CHOUDHARY",
      "userId": "00881308276584195727"
     }
    }
   },
   "execution_count": 72,
   "outputs": []
  },
  {
   "cell_type": "code",
   "source": [
    "plt.figure(figsize=(15, 15))\n",
    "for images, labels in test_ds.take(1):\n",
    "    for i in range(9):\n",
    "        ax = plt.subplot(3, 3, i + 1)\n",
    "        plt.imshow(images[i].numpy().astype(\"uint8\"))\n",
    "        predicted_class, confidence = predict(model, images[i].numpy())\n",
    "\n",
    "        actual_class = class_names[labels[i]]\n",
    "        plt.title(f\"Actual: {actual_class},\\n Predicted: {predicted_class},\\n Confidence: {confidence}%\")\n",
    "        plt.axis(\"off\")"
   ],
   "metadata": {
    "colab": {
     "base_uri": "https://localhost:8080/",
     "height": 1000,
     "output_embedded_package_id": "1ar73HAXxDEP-3gtiLkQp0ilgMZer1cpB"
    },
    "id": "tVvEnL3NO0LJ",
    "executionInfo": {
     "status": "ok",
     "timestamp": 1729232134888,
     "user_tz": -330,
     "elapsed": 7167,
     "user": {
      "displayName": "ARITRA CHOUDHARY",
      "userId": "00881308276584195727"
     }
    },
    "outputId": "734ecc9f-ae5d-4996-90e5-516518b4bdcf"
   },
   "execution_count": 73,
   "outputs": []
  },
  {
   "cell_type": "code",
   "source": [
    "from google.colab import drive\n",
    "drive.mount('/content/drive')"
   ],
   "metadata": {
    "colab": {
     "base_uri": "https://localhost:8080/"
    },
    "id": "XPHe5RhKO0IX",
    "executionInfo": {
     "status": "ok",
     "timestamp": 1729232882089,
     "user_tz": -330,
     "elapsed": 3003,
     "user": {
      "displayName": "ARITRA CHOUDHARY",
      "userId": "00881308276584195727"
     }
    },
    "outputId": "0c21b2d1-04ef-4cc8-c11e-329d45b16d55"
   },
   "execution_count": 82,
   "outputs": []
  },
  {
   "cell_type": "code",
   "source": [
    "import os\n",
    "\n",
    "# Define the base directory where all model versions will be saved\n",
    "base_dir = '/content/drive/MyDrive/Solanum tuberosum -project/saved_models'\n",
    "\n",
    "# Create the directory if it doesn't exist\n",
    "if not os.path.exists(base_dir):\n",
    "    os.makedirs(base_dir)\n",
    "\n",
    "# List existing model versions and find the highest version\n",
    "existing_versions = os.listdir(base_dir)\n",
    "if existing_versions:\n",
    "    model_version = max([int(v) for v in existing_versions if v.isdigit()]) + 1\n",
    "else:\n",
    "    model_version = 1  # Start with version 1 if no versions exist\n",
    "\n",
    "print(f\"Saving model as version: {model_version}\")\n"
   ],
   "metadata": {
    "colab": {
     "base_uri": "https://localhost:8080/"
    },
    "id": "rXUX8PedO0FS",
    "executionInfo": {
     "status": "ok",
     "timestamp": 1729232892158,
     "user_tz": -330,
     "elapsed": 417,
     "user": {
      "displayName": "ARITRA CHOUDHARY",
      "userId": "00881308276584195727"
     }
    },
    "outputId": "547b1661-7f7b-4886-f27a-17b56a11008f"
   },
   "execution_count": 83,
   "outputs": []
  },
  {
   "cell_type": "code",
   "source": [
    "# Define the path for this version of the model\n",
    "model_save_path = f'{base_dir}/{model_version}/model.keras'\n",
    "\n",
    "# Create the directory for the version if it doesn't exist\n",
    "os.makedirs(f'{base_dir}/{model_version}', exist_ok=True)\n",
    "\n",
    "# Save the model\n",
    "model.save(model_save_path)\n",
    "\n",
    "print(f\"Model saved in version: {model_version}\")\n"
   ],
   "metadata": {
    "colab": {
     "base_uri": "https://localhost:8080/"
    },
    "id": "a-nHerUAOz_v",
    "executionInfo": {
     "status": "ok",
     "timestamp": 1729232907729,
     "user_tz": -330,
     "elapsed": 429,
     "user": {
      "displayName": "ARITRA CHOUDHARY",
      "userId": "00881308276584195727"
     }
    },
    "outputId": "68b38d65-e10a-49d3-b2ac-2d26a54441b4"
   },
   "execution_count": 84,
   "outputs": []
  },
  {
   "cell_type": "code",
   "source": [
    "# List the existing model versions, if any\n",
    "existing_versions = os.listdir(base_dir)\n",
    "\n",
    "# If there are existing versions, find the highest version number\n",
    "if existing_versions:\n",
    "    model_version = max([int(v) for v in existing_versions if v.isdigit()]) + 1\n",
    "else:\n",
    "    model_version = 1  # Start from version 1 if no versions exist\n",
    "\n",
    "print(f\"Saving model version: {model_version}\")\n"
   ],
   "metadata": {
    "colab": {
     "base_uri": "https://localhost:8080/"
    },
    "id": "GiTjaadFSlSp",
    "executionInfo": {
     "status": "ok",
     "timestamp": 1729232542489,
     "user_tz": -330,
     "elapsed": 457,
     "user": {
      "displayName": "ARITRA CHOUDHARY",
      "userId": "00881308276584195727"
     }
    },
    "outputId": "a9247602-c248-4336-d987-b9a93e7a305a"
   },
   "execution_count": 77,
   "outputs": []
  },
  {
   "cell_type": "code",
   "source": [
    "# Define the full path for this version of the model\n",
    "model_save_path = f'{base_dir}/{model_version}/model.keras'  # Save the model in .keras format\n",
    "\n",
    "# Create the directory for this version if it doesn't exist\n",
    "os.makedirs(f'{base_dir}/{model_version}', exist_ok=True)\n",
    "\n",
    "# Save the model\n",
    "model.save(model_save_path)\n",
    "\n",
    "print(f\"Model saved in version: {model_version} in .keras format\")\n"
   ],
   "metadata": {
    "colab": {
     "base_uri": "https://localhost:8080/"
    },
    "id": "5l-6jM6lSpaj",
    "executionInfo": {
     "status": "ok",
     "timestamp": 1729232925699,
     "user_tz": -330,
     "elapsed": 417,
     "user": {
      "displayName": "ARITRA CHOUDHARY",
      "userId": "00881308276584195727"
     }
    },
    "outputId": "8e89dcf7-e8a9-4229-b088-e84037da0b99"
   },
   "execution_count": 85,
   "outputs": []
  },
  {
   "cell_type": "code",
   "source": [
    "# Load the model from the .keras file\n",
    "loaded_model = tf.keras.models.load_model('/content/drive/MyDrive/Solanum tuberosum -project/saved_models/1/model.keras')\n",
    "\n",
    "# Print model summary to verify\n",
    "loaded_model.summary()\n"
   ],
   "metadata": {
    "colab": {
     "base_uri": "https://localhost:8080/",
     "height": 689
    },
    "id": "clEw9E7zSsP2",
    "executionInfo": {
     "status": "ok",
     "timestamp": 1729232927941,
     "user_tz": -330,
     "elapsed": 392,
     "user": {
      "displayName": "ARITRA CHOUDHARY",
      "userId": "00881308276584195727"
     }
    },
    "outputId": "f79479df-fb2e-4cab-9ffb-61411664cd77"
   },
   "execution_count": 86,
   "outputs": []
  },
  {
   "cell_type": "code",
   "source": [
    "from google.colab import drive\n",
    "drive.mount('/content/drive')"
   ],
   "metadata": {
    "colab": {
     "base_uri": "https://localhost:8080/"
    },
    "id": "eVu2_-NLTVh0",
    "executionInfo": {
     "status": "ok",
     "timestamp": 1729233847257,
     "user_tz": -330,
     "elapsed": 3373,
     "user": {
      "displayName": "ARITRA CHOUDHARY",
      "userId": "00881308276584195727"
     }
    },
    "outputId": "aec66d04-93eb-4df7-e9dd-3af59271685e"
   },
   "execution_count": 87,
   "outputs": []
  },
  {
   "cell_type": "code",
   "source": [
    "import os\n",
    "\n",
    "# Define the path for the api directory\n",
    "api_dir = '/content/drive/MyDrive/Solanum tuberosum -project/api'\n",
    "\n",
    "# Create the directory if it doesn't exist\n",
    "if not os.path.exists(api_dir):\n",
    "    os.makedirs(api_dir)\n",
    "    print(f\"Directory '{api_dir}' created!\")\n",
    "else:\n",
    "    print(f\"Directory '{api_dir}' already exists.\")\n"
   ],
   "metadata": {
    "colab": {
     "base_uri": "https://localhost:8080/"
    },
    "id": "-luE4DUbXnRK",
    "executionInfo": {
     "status": "ok",
     "timestamp": 1729233855585,
     "user_tz": -330,
     "elapsed": 416,
     "user": {
      "displayName": "ARITRA CHOUDHARY",
      "userId": "00881308276584195727"
     }
    },
    "outputId": "7562b133-c49a-42ec-dd1a-80b48219d128"
   },
   "execution_count": 88,
   "outputs": []
  },
  {
   "cell_type": "code",
   "source": [
    "# Path to the requirements.txt file\n",
    "requirements_path = os.path.join(api_dir, 'requirements.txt')\n",
    "\n",
    "# Write the required dependencies into the requirements.txt file\n",
    "with open(requirements_path, 'w') as f:\n",
    "    f.write(\"tensorflow==2.5.0\\n\")\n",
    "    f.write(\"fastapi\\n\")\n",
    "    f.write(\"uvicorn\\n\")\n",
    "    f.write(\"python-multipart\\n\")\n",
    "    f.write(\"pillow\\n\")\n",
    "    f.write(\"tensorflow-serving-api==2.5.0\\n\")\n",
    "    f.write(\"matplotlib\\n\")\n",
    "    f.write(\"numpy\\n\")\n",
    "\n",
    "print(f\"requirements.txt created at {requirements_path}\")\n"
   ],
   "metadata": {
    "id": "xS56B88OXp2W",
    "executionInfo": {
     "status": "ok",
     "timestamp": 1729233863385,
     "user_tz": -330,
     "elapsed": 420,
     "user": {
      "displayName": "ARITRA CHOUDHARY",
      "userId": "00881308276584195727"
     }
    },
    "outputId": "9458acce-d156-430b-bddc-48b391e36453",
    "colab": {
     "base_uri": "https://localhost:8080/"
    }
   },
   "execution_count": 89,
   "outputs": []
  },
  {
   "cell_type": "code",
   "source": [],
   "metadata": {
    "id": "T0zOSvAuXr6Q"
   },
   "execution_count": null,
   "outputs": []
  }
 ]
}
